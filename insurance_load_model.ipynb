{
 "cells": [
  {
   "cell_type": "code",
   "execution_count": 2,
   "id": "suitable-count",
   "metadata": {},
   "outputs": [],
   "source": [
    "import pickle\n",
    "import joblib\n",
    "import pandas as pd\n",
    "import numpy as np"
   ]
  },
  {
   "cell_type": "code",
   "execution_count": 3,
   "id": "dated-litigation",
   "metadata": {},
   "outputs": [],
   "source": [
    "insurance_predictor= pickle.load(open (\"knn_model.pickle\",'rb'))"
   ]
  },
  {
   "cell_type": "code",
   "execution_count": 4,
   "id": "miniature-consultation",
   "metadata": {},
   "outputs": [
    {
     "data": {
      "text/plain": [
       "RandomizedSearchCV(cv=5, estimator=KNeighborsRegressor(),\n",
       "                   param_distributions={'n_neighbors': [3, 4, 5, 6, 7, 8, 9, 10,\n",
       "                                                        11, 12, 13, 14, 15, 16,\n",
       "                                                        17, 18, 19, 20, 21, 22,\n",
       "                                                        23, 24, 25, 26, 27, 28,\n",
       "                                                        29],\n",
       "                                        'p': [1, 2]})"
      ]
     },
     "execution_count": 4,
     "metadata": {},
     "output_type": "execute_result"
    }
   ],
   "source": [
    "insurance_predictor"
   ]
  },
  {
   "cell_type": "code",
   "execution_count": 4,
   "id": "numerical-generator",
   "metadata": {},
   "outputs": [],
   "source": [
    "test_ds=pd.read_csv(\"for_test_insu.csv\")"
   ]
  },
  {
   "cell_type": "code",
   "execution_count": 6,
   "id": "brazilian-pride",
   "metadata": {},
   "outputs": [
    {
     "data": {
      "text/html": [
       "<div>\n",
       "<style scoped>\n",
       "    .dataframe tbody tr th:only-of-type {\n",
       "        vertical-align: middle;\n",
       "    }\n",
       "\n",
       "    .dataframe tbody tr th {\n",
       "        vertical-align: top;\n",
       "    }\n",
       "\n",
       "    .dataframe thead th {\n",
       "        text-align: right;\n",
       "    }\n",
       "</style>\n",
       "<table border=\"1\" class=\"dataframe\">\n",
       "  <thead>\n",
       "    <tr style=\"text-align: right;\">\n",
       "      <th></th>\n",
       "      <th>Unnamed: 0</th>\n",
       "      <th>age</th>\n",
       "      <th>sex</th>\n",
       "      <th>bmi</th>\n",
       "      <th>children</th>\n",
       "      <th>smoker</th>\n",
       "      <th>charges</th>\n",
       "      <th>r_northeast</th>\n",
       "      <th>r_northwest</th>\n",
       "      <th>r_southeast</th>\n",
       "      <th>r_southwest</th>\n",
       "    </tr>\n",
       "  </thead>\n",
       "  <tbody>\n",
       "    <tr>\n",
       "      <th>0</th>\n",
       "      <td>888</td>\n",
       "      <td>22</td>\n",
       "      <td>0</td>\n",
       "      <td>39.500</td>\n",
       "      <td>0</td>\n",
       "      <td>0</td>\n",
       "      <td>1682.59700</td>\n",
       "      <td>0</td>\n",
       "      <td>0</td>\n",
       "      <td>0</td>\n",
       "      <td>1</td>\n",
       "    </tr>\n",
       "    <tr>\n",
       "      <th>1</th>\n",
       "      <td>889</td>\n",
       "      <td>57</td>\n",
       "      <td>0</td>\n",
       "      <td>33.630</td>\n",
       "      <td>1</td>\n",
       "      <td>0</td>\n",
       "      <td>11945.13270</td>\n",
       "      <td>0</td>\n",
       "      <td>1</td>\n",
       "      <td>0</td>\n",
       "      <td>0</td>\n",
       "    </tr>\n",
       "    <tr>\n",
       "      <th>2</th>\n",
       "      <td>890</td>\n",
       "      <td>64</td>\n",
       "      <td>1</td>\n",
       "      <td>26.885</td>\n",
       "      <td>0</td>\n",
       "      <td>1</td>\n",
       "      <td>29330.98315</td>\n",
       "      <td>0</td>\n",
       "      <td>1</td>\n",
       "      <td>0</td>\n",
       "      <td>0</td>\n",
       "    </tr>\n",
       "    <tr>\n",
       "      <th>3</th>\n",
       "      <td>891</td>\n",
       "      <td>36</td>\n",
       "      <td>1</td>\n",
       "      <td>29.040</td>\n",
       "      <td>4</td>\n",
       "      <td>0</td>\n",
       "      <td>7243.81360</td>\n",
       "      <td>0</td>\n",
       "      <td>0</td>\n",
       "      <td>1</td>\n",
       "      <td>0</td>\n",
       "    </tr>\n",
       "    <tr>\n",
       "      <th>4</th>\n",
       "      <td>892</td>\n",
       "      <td>54</td>\n",
       "      <td>0</td>\n",
       "      <td>24.035</td>\n",
       "      <td>0</td>\n",
       "      <td>0</td>\n",
       "      <td>10422.91665</td>\n",
       "      <td>1</td>\n",
       "      <td>0</td>\n",
       "      <td>0</td>\n",
       "      <td>0</td>\n",
       "    </tr>\n",
       "    <tr>\n",
       "      <th>5</th>\n",
       "      <td>893</td>\n",
       "      <td>47</td>\n",
       "      <td>0</td>\n",
       "      <td>38.940</td>\n",
       "      <td>2</td>\n",
       "      <td>1</td>\n",
       "      <td>44202.65360</td>\n",
       "      <td>0</td>\n",
       "      <td>0</td>\n",
       "      <td>1</td>\n",
       "      <td>0</td>\n",
       "    </tr>\n",
       "  </tbody>\n",
       "</table>\n",
       "</div>"
      ],
      "text/plain": [
       "   Unnamed: 0  age  sex     bmi  children  smoker      charges  r_northeast  \\\n",
       "0         888   22    0  39.500         0       0   1682.59700            0   \n",
       "1         889   57    0  33.630         1       0  11945.13270            0   \n",
       "2         890   64    1  26.885         0       1  29330.98315            0   \n",
       "3         891   36    1  29.040         4       0   7243.81360            0   \n",
       "4         892   54    0  24.035         0       0  10422.91665            1   \n",
       "5         893   47    0  38.940         2       1  44202.65360            0   \n",
       "\n",
       "   r_northwest  r_southeast  r_southwest  \n",
       "0            0            0            1  \n",
       "1            1            0            0  \n",
       "2            1            0            0  \n",
       "3            0            1            0  \n",
       "4            0            0            0  \n",
       "5            0            1            0  "
      ]
     },
     "execution_count": 6,
     "metadata": {},
     "output_type": "execute_result"
    }
   ],
   "source": [
    "test_ds"
   ]
  },
  {
   "cell_type": "code",
   "execution_count": 7,
   "id": "hawaiian-awareness",
   "metadata": {},
   "outputs": [
    {
     "name": "stdout",
     "output_type": "stream",
     "text": [
      "<class 'pandas.core.frame.DataFrame'>\n",
      "RangeIndex: 6 entries, 0 to 5\n",
      "Data columns (total 11 columns):\n",
      " #   Column       Non-Null Count  Dtype  \n",
      "---  ------       --------------  -----  \n",
      " 0   Unnamed: 0   6 non-null      int64  \n",
      " 1   age          6 non-null      int64  \n",
      " 2   sex          6 non-null      int64  \n",
      " 3   bmi          6 non-null      float64\n",
      " 4   children     6 non-null      int64  \n",
      " 5   smoker       6 non-null      int64  \n",
      " 6   charges      6 non-null      float64\n",
      " 7   r_northeast  6 non-null      int64  \n",
      " 8   r_northwest  6 non-null      int64  \n",
      " 9   r_southeast  6 non-null      int64  \n",
      " 10  r_southwest  6 non-null      int64  \n",
      "dtypes: float64(2), int64(9)\n",
      "memory usage: 656.0 bytes\n"
     ]
    }
   ],
   "source": [
    "test_ds.info()"
   ]
  },
  {
   "cell_type": "code",
   "execution_count": 8,
   "id": "danish-oasis",
   "metadata": {},
   "outputs": [],
   "source": [
    "x=test_ds.drop(['charges'],axis=1)\n",
    "y=test_ds['charges']"
   ]
  },
  {
   "cell_type": "code",
   "execution_count": 9,
   "id": "generic-barrier",
   "metadata": {},
   "outputs": [
    {
     "name": "stdout",
     "output_type": "stream",
     "text": [
      "<class 'pandas.core.frame.DataFrame'>\n",
      "RangeIndex: 6 entries, 0 to 5\n",
      "Data columns (total 10 columns):\n",
      " #   Column       Non-Null Count  Dtype  \n",
      "---  ------       --------------  -----  \n",
      " 0   Unnamed: 0   6 non-null      int64  \n",
      " 1   age          6 non-null      int64  \n",
      " 2   sex          6 non-null      int64  \n",
      " 3   bmi          6 non-null      float64\n",
      " 4   children     6 non-null      int64  \n",
      " 5   smoker       6 non-null      int64  \n",
      " 6   r_northeast  6 non-null      int64  \n",
      " 7   r_northwest  6 non-null      int64  \n",
      " 8   r_southeast  6 non-null      int64  \n",
      " 9   r_southwest  6 non-null      int64  \n",
      "dtypes: float64(1), int64(9)\n",
      "memory usage: 608.0 bytes\n"
     ]
    }
   ],
   "source": [
    "x.info()"
   ]
  },
  {
   "cell_type": "code",
   "execution_count": 10,
   "id": "arbitrary-serial",
   "metadata": {},
   "outputs": [],
   "source": [
    "x.drop(['Unnamed: 0'],axis=1,inplace=True)"
   ]
  },
  {
   "cell_type": "code",
   "execution_count": 11,
   "id": "loving-competition",
   "metadata": {},
   "outputs": [],
   "source": [
    "y_pred=insurance_predictor.predict(x)"
   ]
  },
  {
   "cell_type": "code",
   "execution_count": 12,
   "id": "scenic-notebook",
   "metadata": {},
   "outputs": [
    {
     "data": {
      "text/plain": [
       "array([13007.56004 , 13656.618972, 32148.657084, 16890.553268,\n",
       "       13961.883684, 45731.01816 ])"
      ]
     },
     "execution_count": 12,
     "metadata": {},
     "output_type": "execute_result"
    }
   ],
   "source": [
    "y_pred"
   ]
  },
  {
   "cell_type": "code",
   "execution_count": 13,
   "id": "chronic-bargain",
   "metadata": {},
   "outputs": [],
   "source": [
    "from sklearn.metrics import roc_auc_score,r2_score,mean_squared_error"
   ]
  },
  {
   "cell_type": "code",
   "execution_count": 14,
   "id": "recent-bosnia",
   "metadata": {},
   "outputs": [
    {
     "data": {
      "text/plain": [
       "0.8083928018437616"
      ]
     },
     "execution_count": 14,
     "metadata": {},
     "output_type": "execute_result"
    }
   ],
   "source": [
    "r2_score(y,y_pred)"
   ]
  },
  {
   "cell_type": "code",
   "execution_count": 15,
   "id": "radio-wilson",
   "metadata": {},
   "outputs": [
    {
     "data": {
      "text/html": [
       "<div>\n",
       "<style scoped>\n",
       "    .dataframe tbody tr th:only-of-type {\n",
       "        vertical-align: middle;\n",
       "    }\n",
       "\n",
       "    .dataframe tbody tr th {\n",
       "        vertical-align: top;\n",
       "    }\n",
       "\n",
       "    .dataframe thead th {\n",
       "        text-align: right;\n",
       "    }\n",
       "</style>\n",
       "<table border=\"1\" class=\"dataframe\">\n",
       "  <thead>\n",
       "    <tr style=\"text-align: right;\">\n",
       "      <th></th>\n",
       "      <th>age</th>\n",
       "      <th>sex</th>\n",
       "      <th>bmi</th>\n",
       "      <th>children</th>\n",
       "      <th>smoker</th>\n",
       "      <th>r_northeast</th>\n",
       "      <th>r_northwest</th>\n",
       "      <th>r_southeast</th>\n",
       "      <th>r_southwest</th>\n",
       "    </tr>\n",
       "  </thead>\n",
       "  <tbody>\n",
       "    <tr>\n",
       "      <th>0</th>\n",
       "      <td>22</td>\n",
       "      <td>0</td>\n",
       "      <td>39.50</td>\n",
       "      <td>0</td>\n",
       "      <td>0</td>\n",
       "      <td>0</td>\n",
       "      <td>0</td>\n",
       "      <td>0</td>\n",
       "      <td>1</td>\n",
       "    </tr>\n",
       "    <tr>\n",
       "      <th>1</th>\n",
       "      <td>57</td>\n",
       "      <td>0</td>\n",
       "      <td>33.63</td>\n",
       "      <td>1</td>\n",
       "      <td>0</td>\n",
       "      <td>0</td>\n",
       "      <td>1</td>\n",
       "      <td>0</td>\n",
       "      <td>0</td>\n",
       "    </tr>\n",
       "  </tbody>\n",
       "</table>\n",
       "</div>"
      ],
      "text/plain": [
       "   age  sex    bmi  children  smoker  r_northeast  r_northwest  r_southeast  \\\n",
       "0   22    0  39.50         0       0            0            0            0   \n",
       "1   57    0  33.63         1       0            0            1            0   \n",
       "\n",
       "   r_southwest  \n",
       "0            1  \n",
       "1            0  "
      ]
     },
     "execution_count": 15,
     "metadata": {},
     "output_type": "execute_result"
    }
   ],
   "source": [
    "x.head(2)"
   ]
  },
  {
   "cell_type": "code",
   "execution_count": 29,
   "id": "fourth-steering",
   "metadata": {},
   "outputs": [],
   "source": [
    "#predict charges (age= 22,sex= male, bmi= 39.45,childern= 2,smoker=no, area= northwest)\n",
    "def predict_charges(age,gender,bmi,children,smoker, region):\n",
    "    location_index= x.columns.get_loc(region)\n",
    "    z=np.zeros(len(x.columns))\n",
    "    z[0]= age\n",
    "    \n",
    "    if gender == 'male': \n",
    "        z[1] = 1\n",
    "    else:\n",
    "        z[1] = 0\n",
    "        \n",
    "    z[2] = bmi\n",
    "    z[3] = children\n",
    "    \n",
    "    if smoker == 'yes': \n",
    "        z[4] = 1\n",
    "    else:\n",
    "        z[4] = 0 \n",
    "    z[location_index]= 1\n",
    "    \n",
    "    return insurance_predictor.predict([z])[0]\n",
    "    "
   ]
  },
  {
   "cell_type": "code",
   "execution_count": 30,
   "id": "adult-reset",
   "metadata": {},
   "outputs": [
    {
     "data": {
      "text/plain": [
       "35565.432100000005"
      ]
     },
     "execution_count": 30,
     "metadata": {},
     "output_type": "execute_result"
    }
   ],
   "source": [
    "predict_charges(29,'male',39,0,'yes','r_southwest')"
   ]
  },
  {
   "cell_type": "code",
   "execution_count": 31,
   "id": "planned-douglas",
   "metadata": {},
   "outputs": [
    {
     "data": {
      "text/plain": [
       "13623.149872999998"
      ]
     },
     "execution_count": 31,
     "metadata": {},
     "output_type": "execute_result"
    }
   ],
   "source": [
    "predict_charges(34,'female',39,1,'no','r_northeast')"
   ]
  },
  {
   "cell_type": "code",
   "execution_count": 32,
   "id": "musical-opportunity",
   "metadata": {},
   "outputs": [],
   "source": [
    "import json\n",
    "columns= {\n",
    "    'data_coumns': [col.lower() for col in x.columns]\n",
    "}\n",
    "with open(\"columns1.json\",\"w\") as f:\n",
    "    f.write(json.dumps(columns))"
   ]
  },
  {
   "cell_type": "code",
   "execution_count": null,
   "id": "opposed-strength",
   "metadata": {},
   "outputs": [],
   "source": []
  }
 ],
 "metadata": {
  "kernelspec": {
   "display_name": "Python 3",
   "language": "python",
   "name": "python3"
  },
  "language_info": {
   "codemirror_mode": {
    "name": "ipython",
    "version": 3
   },
   "file_extension": ".py",
   "mimetype": "text/x-python",
   "name": "python",
   "nbconvert_exporter": "python",
   "pygments_lexer": "ipython3",
   "version": "3.9.2"
  }
 },
 "nbformat": 4,
 "nbformat_minor": 5
}
